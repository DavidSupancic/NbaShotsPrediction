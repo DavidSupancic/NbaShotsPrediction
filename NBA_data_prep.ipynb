{
 "cells": [
  {
   "cell_type": "markdown",
   "metadata": {},
   "source": [
    "# NBA Shot Success Prediction Using Machine Learning"
   ]
  },
  {
   "cell_type": "markdown",
   "metadata": {},
   "source": [
    "## Data Loading and Initial Exploration"
   ]
  },
  {
   "cell_type": "code",
   "execution_count": null,
   "metadata": {},
   "outputs": [],
   "source": [
    "import pandas as pd \n",
    "import matplotlib.pyplot as plt\n",
    "import numpy as np\n",
    "import seaborn as sns\n",
    "from datetime import datetime"
   ]
  },
  {
   "cell_type": "code",
   "execution_count": null,
   "metadata": {},
   "outputs": [
    {
     "data": {
      "text/plain": [
       "(128069, 21)"
      ]
     },
     "execution_count": 208,
     "metadata": {},
     "output_type": "execute_result"
    }
   ],
   "source": [
    "file_name = 'shot_logs.csv'\n",
    "df_loaded = pd.read_csv(file_name)\n",
    "\n",
    "df_loaded.shape"
   ]
  },
  {
   "cell_type": "code",
   "execution_count": null,
   "metadata": {},
   "outputs": [
    {
     "data": {
      "text/html": [
       "<div>\n",
       "<style scoped>\n",
       "    .dataframe tbody tr th:only-of-type {\n",
       "        vertical-align: middle;\n",
       "    }\n",
       "\n",
       "    .dataframe tbody tr th {\n",
       "        vertical-align: top;\n",
       "    }\n",
       "\n",
       "    .dataframe thead th {\n",
       "        text-align: right;\n",
       "    }\n",
       "</style>\n",
       "<table border=\"1\" class=\"dataframe\">\n",
       "  <thead>\n",
       "    <tr style=\"text-align: right;\">\n",
       "      <th></th>\n",
       "      <th>GAME_ID</th>\n",
       "      <th>MATCHUP</th>\n",
       "      <th>LOCATION</th>\n",
       "      <th>W</th>\n",
       "      <th>FINAL_MARGIN</th>\n",
       "      <th>SHOT_NUMBER</th>\n",
       "      <th>PERIOD</th>\n",
       "      <th>GAME_CLOCK</th>\n",
       "      <th>SHOT_CLOCK</th>\n",
       "      <th>DRIBBLES</th>\n",
       "      <th>...</th>\n",
       "      <th>SHOT_DIST</th>\n",
       "      <th>PTS_TYPE</th>\n",
       "      <th>SHOT_RESULT</th>\n",
       "      <th>CLOSEST_DEFENDER</th>\n",
       "      <th>CLOSEST_DEFENDER_PLAYER_ID</th>\n",
       "      <th>CLOSE_DEF_DIST</th>\n",
       "      <th>FGM</th>\n",
       "      <th>PTS</th>\n",
       "      <th>player_name</th>\n",
       "      <th>player_id</th>\n",
       "    </tr>\n",
       "  </thead>\n",
       "  <tbody>\n",
       "    <tr>\n",
       "      <th>0</th>\n",
       "      <td>21400899</td>\n",
       "      <td>MAR 04, 2015 - CHA @ BKN</td>\n",
       "      <td>A</td>\n",
       "      <td>W</td>\n",
       "      <td>24</td>\n",
       "      <td>1</td>\n",
       "      <td>1</td>\n",
       "      <td>1:09</td>\n",
       "      <td>10.8</td>\n",
       "      <td>2</td>\n",
       "      <td>...</td>\n",
       "      <td>7.7</td>\n",
       "      <td>2</td>\n",
       "      <td>made</td>\n",
       "      <td>Anderson, Alan</td>\n",
       "      <td>101187</td>\n",
       "      <td>1.3</td>\n",
       "      <td>1</td>\n",
       "      <td>2</td>\n",
       "      <td>brian roberts</td>\n",
       "      <td>203148</td>\n",
       "    </tr>\n",
       "    <tr>\n",
       "      <th>1</th>\n",
       "      <td>21400899</td>\n",
       "      <td>MAR 04, 2015 - CHA @ BKN</td>\n",
       "      <td>A</td>\n",
       "      <td>W</td>\n",
       "      <td>24</td>\n",
       "      <td>2</td>\n",
       "      <td>1</td>\n",
       "      <td>0:14</td>\n",
       "      <td>3.4</td>\n",
       "      <td>0</td>\n",
       "      <td>...</td>\n",
       "      <td>28.2</td>\n",
       "      <td>3</td>\n",
       "      <td>missed</td>\n",
       "      <td>Bogdanovic, Bojan</td>\n",
       "      <td>202711</td>\n",
       "      <td>6.1</td>\n",
       "      <td>0</td>\n",
       "      <td>0</td>\n",
       "      <td>brian roberts</td>\n",
       "      <td>203148</td>\n",
       "    </tr>\n",
       "    <tr>\n",
       "      <th>2</th>\n",
       "      <td>21400899</td>\n",
       "      <td>MAR 04, 2015 - CHA @ BKN</td>\n",
       "      <td>A</td>\n",
       "      <td>W</td>\n",
       "      <td>24</td>\n",
       "      <td>3</td>\n",
       "      <td>1</td>\n",
       "      <td>0:00</td>\n",
       "      <td>NaN</td>\n",
       "      <td>3</td>\n",
       "      <td>...</td>\n",
       "      <td>10.1</td>\n",
       "      <td>2</td>\n",
       "      <td>missed</td>\n",
       "      <td>Bogdanovic, Bojan</td>\n",
       "      <td>202711</td>\n",
       "      <td>0.9</td>\n",
       "      <td>0</td>\n",
       "      <td>0</td>\n",
       "      <td>brian roberts</td>\n",
       "      <td>203148</td>\n",
       "    </tr>\n",
       "    <tr>\n",
       "      <th>3</th>\n",
       "      <td>21400899</td>\n",
       "      <td>MAR 04, 2015 - CHA @ BKN</td>\n",
       "      <td>A</td>\n",
       "      <td>W</td>\n",
       "      <td>24</td>\n",
       "      <td>4</td>\n",
       "      <td>2</td>\n",
       "      <td>11:47</td>\n",
       "      <td>10.3</td>\n",
       "      <td>2</td>\n",
       "      <td>...</td>\n",
       "      <td>17.2</td>\n",
       "      <td>2</td>\n",
       "      <td>missed</td>\n",
       "      <td>Brown, Markel</td>\n",
       "      <td>203900</td>\n",
       "      <td>3.4</td>\n",
       "      <td>0</td>\n",
       "      <td>0</td>\n",
       "      <td>brian roberts</td>\n",
       "      <td>203148</td>\n",
       "    </tr>\n",
       "    <tr>\n",
       "      <th>4</th>\n",
       "      <td>21400899</td>\n",
       "      <td>MAR 04, 2015 - CHA @ BKN</td>\n",
       "      <td>A</td>\n",
       "      <td>W</td>\n",
       "      <td>24</td>\n",
       "      <td>5</td>\n",
       "      <td>2</td>\n",
       "      <td>10:34</td>\n",
       "      <td>10.9</td>\n",
       "      <td>2</td>\n",
       "      <td>...</td>\n",
       "      <td>3.7</td>\n",
       "      <td>2</td>\n",
       "      <td>missed</td>\n",
       "      <td>Young, Thaddeus</td>\n",
       "      <td>201152</td>\n",
       "      <td>1.1</td>\n",
       "      <td>0</td>\n",
       "      <td>0</td>\n",
       "      <td>brian roberts</td>\n",
       "      <td>203148</td>\n",
       "    </tr>\n",
       "  </tbody>\n",
       "</table>\n",
       "<p>5 rows × 21 columns</p>\n",
       "</div>"
      ],
      "text/plain": [
       "    GAME_ID                   MATCHUP LOCATION  W  FINAL_MARGIN  SHOT_NUMBER  \\\n",
       "0  21400899  MAR 04, 2015 - CHA @ BKN        A  W            24            1   \n",
       "1  21400899  MAR 04, 2015 - CHA @ BKN        A  W            24            2   \n",
       "2  21400899  MAR 04, 2015 - CHA @ BKN        A  W            24            3   \n",
       "3  21400899  MAR 04, 2015 - CHA @ BKN        A  W            24            4   \n",
       "4  21400899  MAR 04, 2015 - CHA @ BKN        A  W            24            5   \n",
       "\n",
       "   PERIOD GAME_CLOCK  SHOT_CLOCK  DRIBBLES  ...  SHOT_DIST  PTS_TYPE  \\\n",
       "0       1       1:09        10.8         2  ...        7.7         2   \n",
       "1       1       0:14         3.4         0  ...       28.2         3   \n",
       "2       1       0:00         NaN         3  ...       10.1         2   \n",
       "3       2      11:47        10.3         2  ...       17.2         2   \n",
       "4       2      10:34        10.9         2  ...        3.7         2   \n",
       "\n",
       "   SHOT_RESULT   CLOSEST_DEFENDER CLOSEST_DEFENDER_PLAYER_ID  CLOSE_DEF_DIST  \\\n",
       "0         made     Anderson, Alan                     101187             1.3   \n",
       "1       missed  Bogdanovic, Bojan                     202711             6.1   \n",
       "2       missed  Bogdanovic, Bojan                     202711             0.9   \n",
       "3       missed      Brown, Markel                     203900             3.4   \n",
       "4       missed    Young, Thaddeus                     201152             1.1   \n",
       "\n",
       "   FGM  PTS    player_name player_id  \n",
       "0    1    2  brian roberts    203148  \n",
       "1    0    0  brian roberts    203148  \n",
       "2    0    0  brian roberts    203148  \n",
       "3    0    0  brian roberts    203148  \n",
       "4    0    0  brian roberts    203148  \n",
       "\n",
       "[5 rows x 21 columns]"
      ]
     },
     "execution_count": 209,
     "metadata": {},
     "output_type": "execute_result"
    }
   ],
   "source": [
    "df_loaded.head()"
   ]
  },
  {
   "cell_type": "markdown",
   "metadata": {},
   "source": [
    "Let's look at the columns."
   ]
  },
  {
   "cell_type": "code",
   "execution_count": null,
   "metadata": {},
   "outputs": [
    {
     "data": {
      "text/plain": [
       "Index(['GAME_ID', 'MATCHUP', 'LOCATION', 'W', 'FINAL_MARGIN', 'SHOT_NUMBER',\n",
       "       'PERIOD', 'GAME_CLOCK', 'SHOT_CLOCK', 'DRIBBLES', 'TOUCH_TIME',\n",
       "       'SHOT_DIST', 'PTS_TYPE', 'SHOT_RESULT', 'CLOSEST_DEFENDER',\n",
       "       'CLOSEST_DEFENDER_PLAYER_ID', 'CLOSE_DEF_DIST', 'FGM', 'PTS',\n",
       "       'player_name', 'player_id'],\n",
       "      dtype='object')"
      ]
     },
     "execution_count": 210,
     "metadata": {},
     "output_type": "execute_result"
    }
   ],
   "source": [
    "df_loaded.columns"
   ]
  },
  {
   "cell_type": "code",
   "execution_count": null,
   "metadata": {},
   "outputs": [
    {
     "data": {
      "text/plain": [
       "GAME_ID                                       21400899\n",
       "MATCHUP                       MAR 04, 2015 - CHA @ BKN\n",
       "LOCATION                                             A\n",
       "W                                                    W\n",
       "FINAL_MARGIN                                        24\n",
       "SHOT_NUMBER                                          1\n",
       "PERIOD                                               1\n",
       "GAME_CLOCK                                        1:09\n",
       "SHOT_CLOCK                                        10.8\n",
       "DRIBBLES                                             2\n",
       "TOUCH_TIME                                         1.9\n",
       "SHOT_DIST                                          7.7\n",
       "PTS_TYPE                                             2\n",
       "SHOT_RESULT                                       made\n",
       "CLOSEST_DEFENDER                        Anderson, Alan\n",
       "CLOSEST_DEFENDER_PLAYER_ID                      101187\n",
       "CLOSE_DEF_DIST                                     1.3\n",
       "FGM                                                  1\n",
       "PTS                                                  2\n",
       "player_name                              brian roberts\n",
       "player_id                                       203148\n",
       "Name: 0, dtype: object"
      ]
     },
     "execution_count": 211,
     "metadata": {},
     "output_type": "execute_result"
    }
   ],
   "source": [
    "df_loaded.iloc[0][:]"
   ]
  },
  {
   "cell_type": "code",
   "execution_count": null,
   "metadata": {},
   "outputs": [
    {
     "data": {
      "text/plain": [
       "MATCHUP                       1808\n",
       "GAME_ID                        904\n",
       "GAME_CLOCK                     719\n",
       "CLOSEST_DEFENDER_PLAYER_ID     474\n",
       "CLOSEST_DEFENDER               473\n",
       "SHOT_DIST                      448\n",
       "TOUCH_TIME                     313\n",
       "CLOSE_DEF_DIST                 299\n",
       "player_name                    281\n",
       "player_id                      281\n",
       "SHOT_CLOCK                     241\n",
       "FINAL_MARGIN                    88\n",
       "SHOT_NUMBER                     38\n",
       "DRIBBLES                        33\n",
       "PERIOD                           7\n",
       "PTS                              3\n",
       "PTS_TYPE                         2\n",
       "SHOT_RESULT                      2\n",
       "W                                2\n",
       "LOCATION                         2\n",
       "FGM                              2\n",
       "dtype: int64"
      ]
     },
     "execution_count": 212,
     "metadata": {},
     "output_type": "execute_result"
    }
   ],
   "source": [
    "# number of unique values\n",
    "df_loaded.nunique().sort_values(ascending=False)"
   ]
  },
  {
   "cell_type": "code",
   "execution_count": null,
   "metadata": {},
   "outputs": [
    {
     "name": "stdout",
     "output_type": "stream",
     "text": [
      "Non-numerical columns: ['MATCHUP', 'LOCATION', 'W', 'GAME_CLOCK', 'SHOT_RESULT', 'CLOSEST_DEFENDER', 'player_name']\n"
     ]
    }
   ],
   "source": [
    "# non-numerical columns\n",
    "non_numerical_cols = df_loaded.select_dtypes(exclude=['int64', 'float64']).columns.tolist()\n",
    "\n",
    "print(\"Non-numerical columns:\", non_numerical_cols)"
   ]
  },
  {
   "cell_type": "code",
   "execution_count": null,
   "metadata": {},
   "outputs": [
    {
     "data": {
      "text/plain": [
       "SHOT_CLOCK    5567\n",
       "dtype: int64"
      ]
     },
     "execution_count": 214,
     "metadata": {},
     "output_type": "execute_result"
    }
   ],
   "source": [
    "# missing values\n",
    "df_loaded.isnull().sum()[df_loaded.isnull().sum()>0]"
   ]
  },
  {
   "cell_type": "code",
   "execution_count": null,
   "metadata": {},
   "outputs": [
    {
     "name": "stdout",
     "output_type": "stream",
     "text": [
      "Categorical columns:\n",
      "['MATCHUP', 'LOCATION', 'W', 'GAME_CLOCK', 'SHOT_RESULT', 'CLOSEST_DEFENDER', 'player_name']\n"
     ]
    }
   ],
   "source": [
    "# categorical columns\n",
    "categorical_cols = df_loaded.select_dtypes(include=['object', 'category']).columns\n",
    "\n",
    "print(\"Categorical columns:\")\n",
    "print(list(categorical_cols))"
   ]
  },
  {
   "cell_type": "markdown",
   "metadata": {},
   "source": [
    "## Data preparation"
   ]
  },
  {
   "cell_type": "code",
   "execution_count": null,
   "metadata": {},
   "outputs": [
    {
     "data": {
      "text/plain": [
       "Index(['GAME_ID', 'MATCHUP', 'LOCATION', 'W', 'FINAL_MARGIN', 'SHOT_NUMBER',\n",
       "       'PERIOD', 'GAME_CLOCK', 'SHOT_CLOCK', 'DRIBBLES', 'TOUCH_TIME',\n",
       "       'SHOT_DIST', 'PTS_TYPE', 'SHOT_RESULT', 'CLOSEST_DEFENDER',\n",
       "       'CLOSEST_DEFENDER_PLAYER_ID', 'CLOSE_DEF_DIST', 'FGM', 'PTS',\n",
       "       'player_name', 'player_id'],\n",
       "      dtype='object')"
      ]
     },
     "execution_count": 216,
     "metadata": {},
     "output_type": "execute_result"
    }
   ],
   "source": [
    "df = df_loaded.copy()\n",
    "df.columns"
   ]
  },
  {
   "cell_type": "markdown",
   "metadata": {},
   "source": [
    "I'll put SHOT_RESULT (target variable) as the last column."
   ]
  },
  {
   "cell_type": "code",
   "execution_count": null,
   "metadata": {},
   "outputs": [],
   "source": [
    "cols = df.columns.tolist()\n",
    "\n",
    "cols.remove('SHOT_RESULT')\n",
    "cols.append('SHOT_RESULT')\n",
    "\n",
    "df = df[cols]"
   ]
  },
  {
   "cell_type": "markdown",
   "metadata": {},
   "source": [
    "### USELESS FEATURES\n",
    "I will first remove the features that don't bring any value by using my domain knowledge. Since 'player_name' and 'CLOSEST_DEFENDER' are giving the same information as 'player_id' and 'CLOSEST_DEFENDER_PLAYER_ID' I can remove them."
   ]
  },
  {
   "cell_type": "code",
   "execution_count": null,
   "metadata": {},
   "outputs": [],
   "source": [
    "df = df.drop(columns=['player_name', 'CLOSEST_DEFENDER'])"
   ]
  },
  {
   "cell_type": "markdown",
   "metadata": {},
   "source": [
    "Let's look at the correlation matrix of all numerical features."
   ]
  },
  {
   "cell_type": "code",
   "execution_count": null,
   "metadata": {},
   "outputs": [
    {
     "data": {
      "image/png": "[encoded data removed]",
      "text/plain": [
       "<Figure size 1000x800 with 2 Axes>"
      ]
     },
     "metadata": {},
     "output_type": "display_data"
    }
   ],
   "source": [
    "numeric_corr = df.select_dtypes(include=['int64', 'float64']).corr().round(2)\n",
    "\n",
    "plt.figure(figsize=(10, 8))\n",
    "sns.heatmap(numeric_corr, annot=True, cmap='coolwarm', center=0)\n",
    "plt.show()"
   ]
  },
  {
   "cell_type": "markdown",
   "metadata": {},
   "source": [
    "As we can see 'SHOT_RESULTS' is really highly correlated with 'FGM' and 'PTS' so I will remove those 2."
   ]
  },
  {
   "cell_type": "code",
   "execution_count": null,
   "metadata": {},
   "outputs": [],
   "source": [
    "df = df.drop(columns=['FGM', 'PTS'])"
   ]
  },
  {
   "cell_type": "code",
   "execution_count": null,
   "metadata": {},
   "outputs": [
    {
     "data": {
      "text/plain": [
       "GAME_ID                                       21400899\n",
       "MATCHUP                       MAR 04, 2015 - CHA @ BKN\n",
       "LOCATION                                             A\n",
       "W                                                    W\n",
       "FINAL_MARGIN                                        24\n",
       "SHOT_NUMBER                                          1\n",
       "PERIOD                                               1\n",
       "GAME_CLOCK                                        1:09\n",
       "SHOT_CLOCK                                        10.8\n",
       "DRIBBLES                                             2\n",
       "TOUCH_TIME                                         1.9\n",
       "SHOT_DIST                                          7.7\n",
       "PTS_TYPE                                             2\n",
       "CLOSEST_DEFENDER_PLAYER_ID                      101187\n",
       "CLOSE_DEF_DIST                                     1.3\n",
       "player_id                                       203148\n",
       "SHOT_RESULT                                       made\n",
       "Name: 0, dtype: object"
      ]
     },
     "execution_count": 221,
     "metadata": {},
     "output_type": "execute_result"
    }
   ],
   "source": [
    "df.iloc[0]"
   ]
  },
  {
   "cell_type": "markdown",
   "metadata": {},
   "source": [
    "### DATA LEAKAGE"
   ]
  },
  {
   "cell_type": "markdown",
   "metadata": {},
   "source": [
    "I will remove post-prediction columns 'W' and 'FINAL_MARGIN' to prevent data leakage."
   ]
  },
  {
   "cell_type": "code",
   "execution_count": null,
   "metadata": {},
   "outputs": [],
   "source": [
    "df = df.drop(columns=['W', 'FINAL_MARGIN'])"
   ]
  },
  {
   "cell_type": "markdown",
   "metadata": {},
   "source": [
    "### IMPOSSIBLE CASES"
   ]
  },
  {
   "cell_type": "markdown",
   "metadata": {},
   "source": [
    "I will remove impossible cases (incorrect data)."
   ]
  },
  {
   "cell_type": "code",
   "execution_count": null,
   "metadata": {},
   "outputs": [],
   "source": [
    "df = df[df['TOUCH_TIME']>0]\n",
    "df = df[df['SHOT_DIST']>0]\n",
    "df = df[df['CLOSE_DEF_DIST']>0]"
   ]
  },
  {
   "cell_type": "markdown",
   "metadata": {},
   "source": [
    "### CATEGORICAL FEATURES"
   ]
  },
  {
   "cell_type": "markdown",
   "metadata": {},
   "source": [
    "I will change categorical features into numerical: \n",
    "\n",
    "'SHOT_RESULT' -> 'made': 1, 'missed': 0\n",
    "\n",
    "'LOCATION' -> 'A': 0, 'H': 1\n",
    "\n",
    "'PTS_TYPE' is categorical but doesn't require change into 0 and 1 because the values are already numerical and the actual numbers (2 and 3) have meaningful mathematical relationships that reflect the real scoring system."
   ]
  },
  {
   "cell_type": "code",
   "execution_count": null,
   "metadata": {},
   "outputs": [],
   "source": [
    "df['SHOT_RESULT'] = df['SHOT_RESULT'].map({'made': 1, 'missed': 0})\n",
    "df['LOCATION'] = df['LOCATION'].map({'A': 0, 'H': 1})"
   ]
  },
  {
   "cell_type": "markdown",
   "metadata": {},
   "source": [
    "I will transform 'PERIOD' with one-hot encoding because I think periods are not ordinal feature. This means that players's shooting doesn't increase or decrease through periods but can be bad in period 1, then good in periods 2 and 3, then again bad in period 4..."
   ]
  },
  {
   "cell_type": "code",
   "execution_count": null,
   "metadata": {},
   "outputs": [],
   "source": [
    "period_dummies = pd.get_dummies(df['PERIOD'], prefix='PERIOD', drop_first=True, dtype=int)\n",
    "df = df.drop(columns=['PERIOD'])\n",
    "df = pd.concat([df, period_dummies], axis=1)"
   ]
  },
  {
   "cell_type": "markdown",
   "metadata": {},
   "source": [
    "### FEATURE ENGINEERING"
   ]
  },
  {
   "cell_type": "markdown",
   "metadata": {},
   "source": [
    "I will create or change some existing features in this part:\n",
    "\n",
    "'GAME_CLOCK' into seconds"
   ]
  },
  {
   "cell_type": "code",
   "execution_count": null,
   "metadata": {},
   "outputs": [],
   "source": [
    "def convert_to_seconds(time_str):\n",
    "    if pd.isna(time_str):\n",
    "        return None\n",
    "    minutes, seconds = map(int, time_str.split(':'))\n",
    "    return minutes * 60 + seconds"
   ]
  },
  {
   "cell_type": "code",
   "execution_count": null,
   "metadata": {},
   "outputs": [],
   "source": [
    "df['GAME_CLOCK'] = df['GAME_CLOCK'].apply(convert_to_seconds)"
   ]
  },
  {
   "cell_type": "markdown",
   "metadata": {},
   "source": [
    "'MATCHUP' into 'DAY_OF_SEASON', 'PLAYER_TEAM' and 'DEFENDER TEAM'"
   ]
  },
  {
   "cell_type": "code",
   "execution_count": null,
   "metadata": {},
   "outputs": [],
   "source": [
    "# Split MATCHUP into date and teams parts\n",
    "df[['date_str', 'teams']] = df['MATCHUP'].str.split(' - ', expand=True)\n",
    "\n",
    "# Convert dates\n",
    "dates = pd.to_datetime(df['date_str'], format='%b %d, %Y')\n",
    "\n",
    "# Calculate days since season start\n",
    "days_since_start = (dates - dates.min()).dt.days\n",
    "\n",
    "# Split teams (they're all in format \"TEAM1 @ TEAM2\" or \"TEAM1 vs. TEAM2\")\n",
    "df[['team1', 'team2']] = df['teams'].str.extract(r'(\\w+) [@vs.] (\\w+)')\n",
    "\n",
    "# Assign teams based on LOCATION\n",
    "player_team = np.where(df['LOCATION'] == 1, df['team2'], df['team1'])\n",
    "defender_team = np.where(df['LOCATION'] == 1, df['team1'], df['team2'])\n",
    "\n",
    "# Add new features to df\n",
    "df['DAY_OF_SEASON'] = days_since_start\n",
    "df['PLAYER_TEAM'] = player_team\n",
    "df['DEFENDER_TEAM'] = defender_team\n",
    "\n",
    "df = df.drop(columns=['MATCHUP', 'date_str', 'teams', 'team1', 'team2'])"
   ]
  },
  {
   "cell_type": "code",
   "execution_count": null,
   "metadata": {},
   "outputs": [],
   "source": [
    "# Create one-hot encoding for PLAYER_TEAM\n",
    "player_team_dummies = pd.get_dummies(df['PLAYER_TEAM'], prefix='PLAYER_TEAM', drop_first=True)\n",
    "\n",
    "# Create one-hot encoding for DEFENDER_TEAM\n",
    "defender_team_dummies = pd.get_dummies(df['DEFENDER_TEAM'], prefix='DEFENDER_TEAM', drop_first=True)\n",
    "\n",
    "# Concatenate the original dataframe with the new dummy variables\n",
    "df = pd.concat([df, player_team_dummies, defender_team_dummies], axis=1)\n",
    "\n",
    "df = df.drop(columns=['PLAYER_TEAM', 'DEFENDER_TEAM'])"
   ]
  },
  {
   "cell_type": "code",
   "execution_count": null,
   "metadata": {},
   "outputs": [
    {
     "data": {
      "text/plain": [
       "GAME_ID              21400899.0\n",
       "LOCATION                    0.0\n",
       "FINAL_MARGIN               24.0\n",
       "SHOT_NUMBER                 1.0\n",
       "GAME_CLOCK                 69.0\n",
       "                        ...    \n",
       "DEFENDER_TEAM_SAC           0.0\n",
       "DEFENDER_TEAM_SAS           0.0\n",
       "DEFENDER_TEAM_TOR           0.0\n",
       "DEFENDER_TEAM_UTA           0.0\n",
       "DEFENDER_TEAM_WAS           0.0\n",
       "Name: 0, Length: 79, dtype: float64"
      ]
     },
     "execution_count": 233,
     "metadata": {},
     "output_type": "execute_result"
    }
   ],
   "source": [
    "df.iloc[0]"
   ]
  },
  {
   "cell_type": "markdown",
   "metadata": {},
   "source": [
    "### MISSING VALUES"
   ]
  },
  {
   "cell_type": "code",
   "execution_count": null,
   "metadata": {},
   "outputs": [
    {
     "data": {
      "text/plain": [
       "SHOT_CLOCK    5278\n",
       "dtype: int64"
      ]
     },
     "execution_count": 234,
     "metadata": {},
     "output_type": "execute_result"
    }
   ],
   "source": [
    "df.isnull().sum()[df.isnull().sum()>0]"
   ]
  },
  {
   "cell_type": "code",
   "execution_count": null,
   "metadata": {},
   "outputs": [],
   "source": [
    "from sklearn.ensemble import RandomForestRegressor\n",
    "from sklearn.impute import SimpleImputer\n",
    "\n",
    "# Create mask for missing values\n",
    "shot_clock_missing = df['SHOT_CLOCK'].isnull()\n",
    "\n",
    "# Create feature matrix excluding SHOT_RESULT and SHOT_CLOCK\n",
    "features = df.drop(['SHOT_RESULT', 'SHOT_CLOCK'], axis=1)\n",
    "\n",
    "# Handle categorical variables (if any)\n",
    "features = pd.get_dummies(features)\n",
    "\n",
    "# Create separate training data (where SHOT_CLOCK is not null)\n",
    "X_train = features[~shot_clock_missing]\n",
    "y_train = df['SHOT_CLOCK'][~shot_clock_missing]\n",
    "\n",
    "# Create data to predict (where SHOT_CLOCK is null)\n",
    "X_predict = features[shot_clock_missing]\n",
    "\n",
    "# Initialize and train Random Forest Regressor\n",
    "rfr = RandomForestRegressor(n_estimators=100, random_state=42)\n",
    "rfr.fit(X_train, y_train)\n",
    "\n",
    "# Make predictions\n",
    "predictions = rfr.predict(X_predict)\n",
    "\n",
    "# Fill in the missing values\n",
    "df.loc[shot_clock_missing, 'SHOT_CLOCK'] = predictions"
   ]
  },
  {
   "cell_type": "markdown",
   "metadata": {},
   "source": [
    "# BZVZ MODEL !!!"
   ]
  },
  {
   "cell_type": "code",
   "execution_count": null,
   "metadata": {},
   "outputs": [],
   "source": [
    "# Import necessary libraries\n",
    "import pandas as pd\n",
    "import numpy as np\n",
    "from xgboost import XGBClassifier\n",
    "from sklearn.linear_model import LogisticRegression\n",
    "from sklearn.model_selection import train_test_split\n",
    "from sklearn.preprocessing import MinMaxScaler\n",
    "from sklearn.metrics import accuracy_score, classification_report, f1_score"
   ]
  },
  {
   "cell_type": "code",
   "execution_count": null,
   "metadata": {},
   "outputs": [
    {
     "data": {
      "text/plain": [
       "Index(['GAME_ID', 'LOCATION', 'FINAL_MARGIN', 'SHOT_NUMBER', 'GAME_CLOCK',\n",
       "       'SHOT_CLOCK', 'DRIBBLES', 'TOUCH_TIME', 'SHOT_DIST', 'PTS_TYPE',\n",
       "       'CLOSEST_DEFENDER_PLAYER_ID', 'CLOSE_DEF_DIST', 'player_id',\n",
       "       'SHOT_RESULT', 'PERIOD_2', 'PERIOD_3', 'PERIOD_4', 'PERIOD_5',\n",
       "       'PERIOD_6', 'PERIOD_7', 'DAY_OF_SEASON', 'PLAYER_TEAM_BKN',\n",
       "       'PLAYER_TEAM_BOS', 'PLAYER_TEAM_CHA', 'PLAYER_TEAM_CHI',\n",
       "       'PLAYER_TEAM_CLE', 'PLAYER_TEAM_DAL', 'PLAYER_TEAM_DEN',\n",
       "       'PLAYER_TEAM_DET', 'PLAYER_TEAM_GSW', 'PLAYER_TEAM_HOU',\n",
       "       'PLAYER_TEAM_IND', 'PLAYER_TEAM_LAC', 'PLAYER_TEAM_LAL',\n",
       "       'PLAYER_TEAM_MEM', 'PLAYER_TEAM_MIA', 'PLAYER_TEAM_MIL',\n",
       "       'PLAYER_TEAM_MIN', 'PLAYER_TEAM_NOP', 'PLAYER_TEAM_NYK',\n",
       "       'PLAYER_TEAM_OKC', 'PLAYER_TEAM_ORL', 'PLAYER_TEAM_PHI',\n",
       "       'PLAYER_TEAM_PHX', 'PLAYER_TEAM_POR', 'PLAYER_TEAM_SAC',\n",
       "       'PLAYER_TEAM_SAS', 'PLAYER_TEAM_TOR', 'PLAYER_TEAM_UTA',\n",
       "       'PLAYER_TEAM_WAS', 'DEFENDER_TEAM_BKN', 'DEFENDER_TEAM_BOS',\n",
       "       'DEFENDER_TEAM_CHA', 'DEFENDER_TEAM_CHI', 'DEFENDER_TEAM_CLE',\n",
       "       'DEFENDER_TEAM_DAL', 'DEFENDER_TEAM_DEN', 'DEFENDER_TEAM_DET',\n",
       "       'DEFENDER_TEAM_GSW', 'DEFENDER_TEAM_HOU', 'DEFENDER_TEAM_IND',\n",
       "       'DEFENDER_TEAM_LAC', 'DEFENDER_TEAM_LAL', 'DEFENDER_TEAM_MEM',\n",
       "       'DEFENDER_TEAM_MIA', 'DEFENDER_TEAM_MIL', 'DEFENDER_TEAM_MIN',\n",
       "       'DEFENDER_TEAM_NOP', 'DEFENDER_TEAM_NYK', 'DEFENDER_TEAM_OKC',\n",
       "       'DEFENDER_TEAM_ORL', 'DEFENDER_TEAM_PHI', 'DEFENDER_TEAM_PHX',\n",
       "       'DEFENDER_TEAM_POR', 'DEFENDER_TEAM_SAC', 'DEFENDER_TEAM_SAS',\n",
       "       'DEFENDER_TEAM_TOR', 'DEFENDER_TEAM_UTA', 'DEFENDER_TEAM_WAS'],\n",
       "      dtype='object')"
      ]
     },
     "execution_count": 237,
     "metadata": {},
     "output_type": "execute_result"
    }
   ],
   "source": [
    "df.columns"
   ]
  },
  {
   "cell_type": "code",
   "execution_count": null,
   "metadata": {},
   "outputs": [
    {
     "name": "stdout",
     "output_type": "stream",
     "text": [
      "Accuracy: 0.6178\n",
      "\n",
      "Classification Report:\n",
      "              precision    recall  f1-score   support\n",
      "\n",
      "           0       0.61      0.85      0.71      3421\n",
      "           1       0.64      0.33      0.44      2767\n",
      "\n",
      "    accuracy                           0.62      6188\n",
      "   macro avg       0.63      0.59      0.57      6188\n",
      "weighted avg       0.62      0.62      0.59      6188\n",
      "\n"
     ]
    }
   ],
   "source": [
    "X = df.drop(columns=['SHOT_RESULT'])\n",
    "y = df['SHOT_RESULT']\n",
    "\n",
    "# Split the data\n",
    "X_train, X_test, y_train, y_test = train_test_split(X, y, test_size=0.05, random_state=48)\n",
    "\n",
    "# Scale the features using MinMaxScaler\n",
    "scaler = MinMaxScaler()\n",
    "X_train_scaled = scaler.fit_transform(X_train)\n",
    "X_test_scaled = scaler.transform(X_test)\n",
    "\n",
    "# Initialize and train XGBoostClassifier\n",
    "xgb_model = XGBClassifier(\n",
    "    learning_rate=0.1,\n",
    "    n_estimators=100,\n",
    "    max_depth=4,\n",
    "    random_state=42\n",
    ")\n",
    "\n",
    "xgb_model.fit(X_train_scaled, y_train)\n",
    "\n",
    "# Make predictions\n",
    "y_pred = xgb_model.predict(X_test_scaled)\n",
    "\n",
    "# Print results\n",
    "print(f\"Accuracy: {accuracy_score(y_test, y_pred):.4f}\")\n",
    "print(\"\\nClassification Report:\")\n",
    "print(classification_report(y_test, y_pred))"
   ]
  },
  {
   "cell_type": "code",
   "execution_count": null,
   "metadata": {},
   "outputs": [
    {
     "name": "stdout",
     "output_type": "stream",
     "text": [
      "\n",
      "Feature Importance:\n",
      "              feature  importance\n",
      "8           SHOT_DIST    0.226686\n",
      "11     CLOSE_DEF_DIST    0.087112\n",
      "7          TOUCH_TIME    0.050532\n",
      "5          SHOT_CLOCK    0.039147\n",
      "2        FINAL_MARGIN    0.030782\n",
      "..                ...         ...\n",
      "37    PLAYER_TEAM_NOP    0.000000\n",
      "41    PLAYER_TEAM_PHI    0.000000\n",
      "48    PLAYER_TEAM_WAS    0.000000\n",
      "42    PLAYER_TEAM_PHX    0.000000\n",
      "77  DEFENDER_TEAM_WAS    0.000000\n",
      "\n",
      "[78 rows x 2 columns]\n"
     ]
    }
   ],
   "source": [
    "# Feature importance\n",
    "feature_importance = pd.DataFrame({\n",
    "    'feature': X.columns,\n",
    "    'importance': xgb_model.feature_importances_\n",
    "})\n",
    "print(\"\\nFeature Importance:\")\n",
    "print(feature_importance.sort_values('importance', ascending=False))"
   ]
  },
  {
   "cell_type": "code",
   "execution_count": null,
   "metadata": {},
   "outputs": [
    {
     "name": "stdout",
     "output_type": "stream",
     "text": [
      "Accuracy: 0.6220\n",
      "\n",
      "Classification Report:\n",
      "              precision    recall  f1-score   support\n",
      "\n",
      "           0       0.61      0.87      0.71      3378\n",
      "           1       0.67      0.33      0.44      2810\n",
      "\n",
      "    accuracy                           0.62      6188\n",
      "   macro avg       0.64      0.60      0.58      6188\n",
      "weighted avg       0.64      0.62      0.59      6188\n",
      "\n"
     ]
    }
   ],
   "source": [
    "# Odaberite 5 najvažnijih varijabli\n",
    "top_features = feature_importance.nlargest(4, 'importance')['feature'].tolist()\n",
    "\n",
    "# Kreirajte novi X dataset samo s top 5 varijabli\n",
    "X = df[top_features]\n",
    "y = df['SHOT_RESULT']\n",
    "\n",
    "# Split the data\n",
    "X_train, X_test, y_train, y_test = train_test_split(X, y, test_size=0.05, random_state=100)\n",
    "\n",
    "# Scale the features using MinMaxScaler\n",
    "scaler = MinMaxScaler()\n",
    "X_train_scaled = scaler.fit_transform(X_train)\n",
    "X_test_scaled = scaler.transform(X_test)\n",
    "\n",
    "# Initialize and train XGBoostClassifier\n",
    "xgb_model = XGBClassifier(\n",
    "    learning_rate=0.1,\n",
    "    n_estimators=100,\n",
    "    max_depth=4,\n",
    "    random_state=42\n",
    ")\n",
    "\n",
    "xgb_model.fit(X_train_scaled, y_train)\n",
    "\n",
    "# Make predictions\n",
    "y_pred = xgb_model.predict(X_test_scaled)\n",
    "\n",
    "# Print results\n",
    "print(f\"Accuracy: {accuracy_score(y_test, y_pred):.4f}\")\n",
    "print(\"\\nClassification Report:\")\n",
    "print(classification_report(y_test, y_pred))"
   ]
  }
 ],
 "metadata": {
  "kernelspec": {
   "display_name": "base",
   "language": "python",
   "name": "python3"
  },
  "language_info": {
   "codemirror_mode": {
    "name": "ipython",
    "version": 3
   },
   "file_extension": ".py",
   "mimetype": "text/x-python",
   "name": "python",
   "nbconvert_exporter": "python",
   "pygments_lexer": "ipython3",
   "version": "3.9.18"
  }
 },
 "nbformat": 4,
 "nbformat_minor": 2
}
